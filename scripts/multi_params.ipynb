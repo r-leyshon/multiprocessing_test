{
 "cells": [
  {
   "cell_type": "markdown",
   "metadata": {},
   "source": [
    "# Multiprocess with multiple parameters\n",
    "\n",
    "There's an interesting limitation to the pool map functions that's explored in this notebook - out of the box they only accept one argument.\n"
   ]
  },
  {
   "cell_type": "code",
   "execution_count": 1,
   "metadata": {},
   "outputs": [],
   "source": [
    "import multiprocess\n",
    "import platform\n",
    "import warnings"
   ]
  },
  {
   "cell_type": "code",
   "execution_count": 2,
   "metadata": {},
   "outputs": [],
   "source": [
    "# shenanigans\n",
    "os = platform.system()\n",
    "if os == \"Darwin\":\n",
    "    try:\n",
    "        multiprocess.set_start_method(\"spawn\")\n",
    "    except RuntimeError:\n",
    "        pass"
   ]
  },
  {
   "cell_type": "code",
   "execution_count": 3,
   "metadata": {},
   "outputs": [],
   "source": [
    "def f(x, y):\n",
    "    \"\"\"raise the power of x to y\"\"\"\n",
    "    return x**y\n"
   ]
  },
  {
   "cell_type": "code",
   "execution_count": 4,
   "metadata": {},
   "outputs": [
    {
     "data": {
      "text/plain": [
       "\"All alternative approaches below would raise error:\\nTypeError: f() missing 1 required positional argument: 'y'\\n\\n\""
      ]
     },
     "execution_count": 4,
     "metadata": {},
     "output_type": "execute_result"
    }
   ],
   "source": [
    "# uses Pool to raise 100 integers to the power of 2\n",
    "p = multiprocess.Pool(multiprocess.cpu_count() - 1)\n",
    "\"\"\"All alternative approaches below would raise error:\n",
    "TypeError: f() missing 1 required positional argument: 'y'\n",
    "\n",
    "\"\"\"\n",
    "#result = p.map(f, range(10), 2)\n",
    "#result = p.map(f, x=range(10), y=2)\n",
    "#result = p.map(f, {\"x\":range(10), \"y\":2})\n",
    "#result = p.map(f, [range(10), 2])\n",
    "#result = p.map(f, [(range(10), 2))\n",
    "\n",
    "\n",
    "#print(result.get(timeout=1))"
   ]
  },
  {
   "cell_type": "markdown",
   "metadata": {},
   "source": [
    "In order to pass multiple arguments, the solution I've found is to use a mapper function.\n",
    "\n",
    "The function `pool_process()` below was written originally for work on the data science campus' [access to services OTP repo](https://github.com/datasciencecampus/access_to_services_OTP/blob/dev/src/make_features/call_OTP_api.py).\n",
    "\n",
    "It creates the pool and maps the function to the parameters."
   ]
  },
  {
   "cell_type": "markdown",
   "metadata": {},
   "source": [
    "Depending on the function you are attempting to map, you will need to create a specific parameter mapper. Some examples of how this has been implemented within the OTP repo:\n",
    "\n",
    "[`pool_process()`](https://github.com/datasciencecampus/access_to_services_OTP/blob/dev/src/make_features/call_OTP_api.py#L734)  \n",
    "\n",
    "[`retry_mapper()`](https://github.com/datasciencecampus/access_to_services_OTP/blob/dev/src/make_features/call_OTP_api.py#L785)  \n",
    "\n",
    "[`pspace_wrapper`](https://github.com/datasciencecampus/access_to_services_OTP/blob/dev/src/make_features/call_OTP_api.py#L802)  \n",
    "\n",
    "And their implementation [throughout this notebook](https://github.com/datasciencecampus/access_to_services_OTP/blob/dev/notebooks/scale_up/01-sample_isochrone_extent.ipynb).\n",
    "\n",
    "\n",
    "[Here's a great blog on your options for multiple params](https://miguendes.me/how-to-pass-multiple-arguments-to-a-map-function-in-python)\n"
   ]
  },
  {
   "cell_type": "code",
   "execution_count": null,
   "metadata": {},
   "outputs": [],
   "source": []
  }
 ],
 "metadata": {
  "kernelspec": {
   "display_name": "Python 3.9.0 ('multiprocessing')",
   "language": "python",
   "name": "python3"
  },
  "language_info": {
   "codemirror_mode": {
    "name": "ipython",
    "version": 3
   },
   "file_extension": ".py",
   "mimetype": "text/x-python",
   "name": "python",
   "nbconvert_exporter": "python",
   "pygments_lexer": "ipython3",
   "version": "3.9.0"
  },
  "orig_nbformat": 4,
  "vscode": {
   "interpreter": {
    "hash": "ee5cf4d34eb693c1efd5b82bcf6702bee7690e4acfa5babd5814e01db791e6c1"
   }
  }
 },
 "nbformat": 4,
 "nbformat_minor": 2
}
