{
 "cells": [
  {
   "cell_type": "markdown",
   "metadata": {},
   "source": [
    "# Multiprocessing Hello World!\n",
    "\n",
    "This notebook uses examples from the [multiprocess repo readme](https://github.com/uqfoundation/multiprocess)"
   ]
  },
  {
   "cell_type": "code",
   "execution_count": 1,
   "metadata": {},
   "outputs": [],
   "source": [
    "# not to be confised with the similarly named multiprocessing library\n",
    "import multiprocess\n",
    "import platform"
   ]
  },
  {
   "cell_type": "code",
   "execution_count": 2,
   "metadata": {},
   "outputs": [
    {
     "data": {
      "text/plain": [
       "16"
      ]
     },
     "execution_count": 2,
     "metadata": {},
     "output_type": "execute_result"
    }
   ],
   "source": [
    "# check the number of cores available on your machine\n",
    "multiprocess.cpu_count()"
   ]
  },
  {
   "cell_type": "code",
   "execution_count": 3,
   "metadata": {},
   "outputs": [
    {
     "data": {
      "text/plain": [
       "'Darwin'"
      ]
     },
     "execution_count": 3,
     "metadata": {},
     "output_type": "execute_result"
    }
   ],
   "source": [
    "# what OS am I running on?\n",
    "platform.system()\n",
    "# I get \"Darwin\" indicating mac-os"
   ]
  },
  {
   "cell_type": "markdown",
   "metadata": {},
   "source": [
    "\n",
    "***\n",
    "\n",
    "## Some Shenanigans...\n",
    "\n",
    "Some environment objects that may be complained about and their fixes on mac-os...\n",
    "\n",
    "If you get error about fork child safety on Mac OS, add following to bash profile:  \n",
    "`export OBJC_DISABLE_INITIALIZE_FORK_SAFETY=YES`\n",
    "\n",
    "* Don't include quotes around this line\n",
    "* Feel free to add a comment with an `#` to remind yourself.\n",
    "* To see your bash profile contents in terminal: `cat ~/.bash_profile`.\n",
    "* If you'd rather view it in Finder, remember to enable viewing of hidden files with `cmd + shift + .`"
   ]
  },
  {
   "cell_type": "code",
   "execution_count": 4,
   "metadata": {},
   "outputs": [],
   "source": [
    "# if you get Attribute Errors os complaints that mention spawn process, try setting the\n",
    "# spawn method, but only once - doesn't like you trying to do this multiple times in\n",
    "# one session:\n",
    "os = platform.system()\n",
    "\n",
    "if os == \"Darwin\":\n",
    "    try:\n",
    "        multiprocess.set_start_method(\"spawn\")\n",
    "    except RuntimeError:\n",
    "        pass"
   ]
  },
  {
   "cell_type": "markdown",
   "metadata": {},
   "source": [
    "***\n",
    "\n",
    "## Examples from the docs"
   ]
  },
  {
   "cell_type": "code",
   "execution_count": 8,
   "metadata": {},
   "outputs": [
    {
     "name": "stdout",
     "output_type": "stream",
     "text": [
      "[0, 1, 4, 9, 16, 25, 36, 49, 64, 81, 100, 121, 144, 169, 196, 225, 256, 289, 324, 361, 400, 441, 484, 529, 576, 625, 676, 729, 784, 841, 900, 961, 1024, 1089, 1156, 1225, 1296, 1369, 1444, 1521, 1600, 1681, 1764, 1849, 1936, 2025, 2116, 2209, 2304, 2401, 2500, 2601, 2704, 2809, 2916, 3025, 3136, 3249, 3364, 3481, 3600, 3721, 3844, 3969, 4096, 4225, 4356, 4489, 4624, 4761, 4900, 5041, 5184, 5329, 5476, 5625, 5776, 5929, 6084, 6241, 6400, 6561, 6724, 6889, 7056, 7225, 7396, 7569, 7744, 7921, 8100, 8281, 8464, 8649, 8836, 9025, 9216, 9409, 9604, 9801]\n"
     ]
    }
   ],
   "source": [
    "def f(x): return x*x\n",
    "# uses 4 cores to self 100 integers\n",
    "p = multiprocess.Pool(4)\n",
    "result = p.map_async(f, range(100))\n",
    "print(result.get(timeout=1))"
   ]
  },
  {
   "cell_type": "markdown",
   "metadata": {},
   "source": [
    "There are 2 workhorse functions that I've used, `map()` and `map_async()`. Map async may not return in the same order of the input iterable, so suggest use map if the sequence of your iterable is important for some reason.\n",
    "\n",
    "There's a little more in the docs about examining the queue etc, but this is the minimal situation. \n"
   ]
  },
  {
   "cell_type": "code",
   "execution_count": null,
   "metadata": {},
   "outputs": [],
   "source": []
  }
 ],
 "metadata": {
  "kernelspec": {
   "display_name": "Python 3.9.0 ('multiprocessing')",
   "language": "python",
   "name": "python3"
  },
  "language_info": {
   "codemirror_mode": {
    "name": "ipython",
    "version": 3
   },
   "file_extension": ".py",
   "mimetype": "text/x-python",
   "name": "python",
   "nbconvert_exporter": "python",
   "pygments_lexer": "ipython3",
   "version": "3.9.0"
  },
  "orig_nbformat": 4,
  "vscode": {
   "interpreter": {
    "hash": "ee5cf4d34eb693c1efd5b82bcf6702bee7690e4acfa5babd5814e01db791e6c1"
   }
  }
 },
 "nbformat": 4,
 "nbformat_minor": 2
}
